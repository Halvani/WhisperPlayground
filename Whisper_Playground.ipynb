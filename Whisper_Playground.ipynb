{
 "cells": [
  {
   "cell_type": "markdown",
   "metadata": {},
   "source": [
    "### Necessary imports"
   ]
  },
  {
   "cell_type": "code",
   "execution_count": null,
   "metadata": {},
   "outputs": [],
   "source": [
    "import os\n",
    "import torch\n",
    "import spacy\n",
    "import whisper\n",
    "import requests\n",
    "from pathlib import Path\n",
    "from colorama import Fore, Style\n",
    "from urllib.parse import urlparse, unquote"
   ]
  },
  {
   "cell_type": "markdown",
   "metadata": {},
   "source": [
    "### Check presence of the ffmpeg environment variable and the binary"
   ]
  },
  {
   "cell_type": "code",
   "execution_count": null,
   "metadata": {},
   "outputs": [],
   "source": [
    "def get_ffmpeg_directory():\n",
    "    path_entries = os.environ['PATH'].split(';')\n",
    "    ffmpeg_entry = [p for p in path_entries if p.endswith(f'ffmpeg\\\\bin')] # TODO: linux handler..\n",
    "    ffmpeg_entry = None if len(ffmpeg_entry) == 0 else ffmpeg_entry[0]\n",
    "    return ffmpeg_entry\n",
    "\n",
    "\n",
    "def check_presence_of_ffmpeg_environment_variable(verbose=True):\n",
    "    ffmpeg_entry = get_ffmpeg_directory()    \n",
    "    msg_available_ffmpeg_var = f'✔️ ffmpeg environment variable is correctly set and the ffmpeg bin path has been found under:\\n{ffmpeg_entry}'\n",
    "    msg_unavailable_ffmpeg_var = '''❌ The ffmpeg environment variable could not be found. \\n \n",
    "              This indicates that ffmpeg, which is required for running Whisper, is not installed on your system. \\n\n",
    "              Please download it first from: https://ffmpeg.org \\n\\n\n",
    "              If you have downloaded and installed ffmpeg, you need to set the required environment variable for it so \n",
    "              that Whisper can access it. For convenience, you can use the following method which tries to do this step \n",
    "              automatically. However, this only works for Windows...\n",
    "              '''    \n",
    "    if ffmpeg_entry is not None and Path(ffmpeg_entry).exists():\n",
    "        if verbose: \n",
    "            print(msg_available_ffmpeg_var) \n",
    "        return True        \n",
    "    else:\n",
    "        if verbose:\n",
    "            print(msg_unavailable_ffmpeg_var) \n",
    "        return False           "
   ]
  },
  {
   "cell_type": "code",
   "execution_count": null,
   "metadata": {},
   "outputs": [],
   "source": [
    "check_presence_of_ffmpeg_environment_variable()"
   ]
  },
  {
   "cell_type": "code",
   "execution_count": null,
   "metadata": {},
   "outputs": [],
   "source": [
    "def setup_ffmpeg_environment_variable():\n",
    "    if check_presence_of_ffmpeg_environment_variable(verbose=False):\n",
    "        print('ffmpeg seems to be correctly installed on you machine. Hence, there is no need to run this method.')\n",
    "        return    \n",
    "    \n",
    "    msg_specify_ffmpeg_path = 'If you already downloaded ffmpeg, please specify the ffmpeg bin path: '\n",
    "    msg_invalid_ffmpeg_path = 'Invalid path, please try again...'    \n",
    "\n",
    "    # Since a valid ffmpeg environment variable was not found, we must create it in order to run Whisper\n",
    "    ffmpeg_bin_path = input(msg_specify_ffmpeg_path)\n",
    "    while ffmpeg_bin_path is None or len(ffmpeg_bin_path.strip()) == 0 or not Path(ffmpeg_bin_path).exists():\n",
    "        print(msg_invalid_ffmpeg_path)\n",
    "        ffmpeg_bin_path = input(msg_specify_ffmpeg_path) \n",
    "\n",
    "    # Linux..\n",
    "    if os.name == 'posix': \n",
    "        import subprocess\n",
    "        exp = f'export ffmpeg=\"{ffmpeg_bin_path}\"'\n",
    "        subprocess.Popen(exp, shell=True).wait()\n",
    "\n",
    "    # Windows..\n",
    "    if os.name == 'nt':  \n",
    "        import win32com.shell.shell as shell\n",
    "\n",
    "        # Terminate if the path-string is longer than the 1024 character limiation of the setx-command. \n",
    "        # See: https://superuser.com/questions/387619/overcoming-the-1024-character-limit-with-setx\n",
    "        if len(os.environ['path']) + len(ffmpeg_bin_path) >= 1024:\n",
    "            raise AssertionError(\n",
    "                'The total length of the path string, including the path of the ffmpeg binary, '\n",
    "                'exceeds the 1024-character limit of the setx command. Therefore, the automatic setup '\n",
    "                'of the ffmpeg environment variable cannot proceed and must be performed manually.')\n",
    "\n",
    "        # Exceute cmd in admin mode in order to set the ffmpeg environment variable via the setx command\n",
    "        command = f'setx /M PATH \"%PATH%;{ffmpeg_bin_path}\"'         \n",
    "        shell.ShellExecuteEx(lpVerb='runas', lpFile='cmd.exe', lpParameters=f'/c {command}')            \n",
    "\n",
    "        # Successful if output is: {'hInstApp': 42, 'hProcess': <PyHANDLE:0>}            \n",
    "        print(f\"{Fore.RED}{Style.BRIGHT}Attention:{Style.RESET_ALL} To be able to detect the ffmpeg environment variable \"\n",
    "              \"system-wide, you have to restart this Jupyter notebook and it's respective process!\") "
   ]
  },
  {
   "cell_type": "code",
   "execution_count": null,
   "metadata": {
    "scrolled": false
   },
   "outputs": [],
   "source": [
    "setup_ffmpeg_environment_variable()"
   ]
  },
  {
   "cell_type": "markdown",
   "metadata": {},
   "source": [
    "### Load the models for spaCy and Whisper"
   ]
  },
  {
   "cell_type": "code",
   "execution_count": null,
   "metadata": {},
   "outputs": [],
   "source": [
    "# Depending on the language of your audio file, the appropriate spaCy model must be loaded. \n",
    "# For available models look at: https://spacy.io/usage/models\n",
    "nlp = spacy.load('en_core_web_sm') \n",
    "\n",
    "# The desired quality of the output depends on the underlying model. \n",
    "# Currently, Open AI offers a variety of models which are available at: \n",
    "# https://github.com/openai/whisper\n",
    "model = whisper.load_model(\"large\")"
   ]
  },
  {
   "cell_type": "markdown",
   "metadata": {},
   "source": [
    "### Select audio file"
   ]
  },
  {
   "cell_type": "code",
   "execution_count": null,
   "metadata": {},
   "outputs": [],
   "source": [
    "def download_file(url, filename):\n",
    "    headers = {'User-Agent': 'CoolBot/0.0 (https://example.org/coolbot/; coolbot@example.org)'}\n",
    "    response = requests.get(url, headers=headers)\n",
    "    if response.status_code == 200:\n",
    "        with open(filename, 'wb') as file:\n",
    "            file.write(response.content)\n",
    "    else:\n",
    "        print(response.raise_for_status())"
   ]
  },
  {
   "cell_type": "code",
   "execution_count": null,
   "metadata": {},
   "outputs": [],
   "source": [
    "# Additional speeches can be found here: https://commons.wikimedia.org/wiki/Category:Audio_files_of_speeches\n",
    "# ----------------------------------------------------------------------------------------------------------        \n",
    "url = 'https://upload.wikimedia.org/wikipedia/commons/7/77/Peter_Erdi_English_voice_-_Winner.ogg'\n",
    "audio_filename = unquote(Path(urlparse(url).path).name)\n",
    "download_file(url, audio_filename)"
   ]
  },
  {
   "cell_type": "markdown",
   "metadata": {},
   "source": [
    "### Transcribe audio file"
   ]
  },
  {
   "cell_type": "code",
   "execution_count": null,
   "metadata": {},
   "outputs": [],
   "source": [
    "text = model.transcribe(audio_filename)['text']"
   ]
  },
  {
   "cell_type": "markdown",
   "metadata": {},
   "source": [
    "### Print transcribed sentences"
   ]
  },
  {
   "cell_type": "code",
   "execution_count": null,
   "metadata": {},
   "outputs": [],
   "source": [
    "print(*list(nlp(text.strip()).sents), sep='\\n') "
   ]
  },
  {
   "cell_type": "markdown",
   "metadata": {},
   "source": [
    "### Play audio file to verify the quality.."
   ]
  },
  {
   "cell_type": "code",
   "execution_count": null,
   "metadata": {},
   "outputs": [],
   "source": [
    "import win32com.shell.shell as shell\n",
    "\n",
    "ffplay_command = f'{get_ffmpeg_directory()}\\\\ffplay {os.getcwd()}\\\\{audio_filename}'\n",
    "shell.ShellExecuteEx(lpVerb='open', lpFile='cmd.exe', lpParameters=f'/c {ffplay_command}')"
   ]
  }
 ],
 "metadata": {
  "kernelspec": {
   "display_name": "Python 3 (ipykernel)",
   "language": "python",
   "name": "python3"
  },
  "language_info": {
   "codemirror_mode": {
    "name": "ipython",
    "version": 3
   },
   "file_extension": ".py",
   "mimetype": "text/x-python",
   "name": "python",
   "nbconvert_exporter": "python",
   "pygments_lexer": "ipython3",
   "version": "3.9.13"
  },
  "varInspector": {
   "cols": {
    "lenName": 16,
    "lenType": 16,
    "lenVar": 40
   },
   "kernels_config": {
    "python": {
     "delete_cmd_postfix": "",
     "delete_cmd_prefix": "del ",
     "library": "var_list.py",
     "varRefreshCmd": "print(var_dic_list())"
    },
    "r": {
     "delete_cmd_postfix": ") ",
     "delete_cmd_prefix": "rm(",
     "library": "var_list.r",
     "varRefreshCmd": "cat(var_dic_list()) "
    }
   },
   "types_to_exclude": [
    "module",
    "function",
    "builtin_function_or_method",
    "instance",
    "_Feature"
   ],
   "window_display": false
  }
 },
 "nbformat": 4,
 "nbformat_minor": 2
}
